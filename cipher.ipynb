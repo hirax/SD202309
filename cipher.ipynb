{
 "cells": [
  {
   "cell_type": "code",
   "execution_count": 2,
   "id": "4422ca89",
   "metadata": {
    "scrolled": true
   },
   "outputs": [
    {
     "name": "stdout",
     "output_type": "stream",
     "text": [
      "{'A': 'B', 'B': 'A', 'C': 'D', 'D': 'C', 'E': 'F', 'F': 'E', 'G': 'H', 'H': 'G', 'I': 'K', 'K': 'I', 'L': 'M', 'M': 'L', 'N': 'O', 'O': 'N', 'P': 'Q', 'Q': 'P', 'R': 'S', 'S': 'R', 'T': 'U', 'U': 'T', 'X': 'Y', 'Y': 'X', 'Z': '&', '&': 'Z'}\n"
     ]
    }
   ],
   "source": [
    "import csv\n",
    "\n",
    "with open('crypt.csv',encoding='utf8',\n",
    "          newline='') as f: # 暗号表を読み込む\n",
    "    csvreader=csv.reader(f)\n",
    "    data=[e for e in csvreader]\n",
    "dictionary={} # 暗号鍵に応じた、交換辞書を作る\n",
    "for line in data:\n",
    "    for i, e in enumerate(line):\n",
    "        if i==0: # 冒頭列は「暗号鍵文字」\n",
    "            dictionary[e]={}\n",
    "            key=e\n",
    "        else: # 各文字の交換相手を辞書に追加\n",
    "            dictionary[key][e[0]]=e[1]\n",
    "            dictionary[key][e[1]]=e[0]\n",
    "print(dictionary['A'])"
   ]
  },
  {
   "cell_type": "code",
   "execution_count": 3,
   "id": "7a2c9b3d",
   "metadata": {},
   "outputs": [],
   "source": [
    "# 暗号化・複号化\n",
    "def encode(dictionary,key,message,is_skip):\n",
    "    idx=0; ret=[]\n",
    "    for i, c in enumerate(message):\n",
    "        if c != ' ':\n",
    "            if is_skip and i%2==1:\n",
    "                ret.append(c.upper())\n",
    "            else:\n",
    "                key_c=key[i%len(key)].upper()\n",
    "                ret.append( \n",
    "                  dictionary[key_c][c.upper()])\n",
    "    return ''.join(ret)"
   ]
  },
  {
   "cell_type": "code",
   "execution_count": 6,
   "id": "71913d9f",
   "metadata": {},
   "outputs": [
    {
     "name": "stdout",
     "output_type": "stream",
     "text": [
      "OEFLHUROKLX\n"
     ]
    }
   ],
   "source": [
    "# 「暗号鍵は\"ruip\"、1文字おきに文字交換する」で暗号化\n",
    "cipher = encode(dictionary,'ruip','hellouuorld',True)\n",
    "print(cipher)"
   ]
  },
  {
   "cell_type": "code",
   "execution_count": 5,
   "id": "3ae0c584",
   "metadata": {},
   "outputs": [
    {
     "name": "stdout",
     "output_type": "stream",
     "text": [
      "HELLOUUORLD\n"
     ]
    }
   ],
   "source": [
    "# 復号化する\n",
    "print(encode(dictionary, 'ruip', cipher, True))"
   ]
  },
  {
   "cell_type": "code",
   "execution_count": 7,
   "id": "fa9addba",
   "metadata": {},
   "outputs": [
    {
     "name": "stdout",
     "output_type": "stream",
     "text": [
      "AKISU\n"
     ]
    }
   ],
   "source": [
    "cipher = encode(dictionary,\n",
    "           'depuis',\n",
    "      '     adieu', True)\n",
    "print(cipher)"
   ]
  },
  {
   "cell_type": "code",
   "execution_count": 11,
   "id": "c305195f",
   "metadata": {},
   "outputs": [
    {
     "name": "stdout",
     "output_type": "stream",
     "text": [
      "ADIEU\n"
     ]
    }
   ],
   "source": [
    "s=encode(dictionary,\n",
    "         'depuis',\n",
    "    '     akisu', True)\n",
    "print(s)"
   ]
  },
  {
   "cell_type": "code",
   "execution_count": null,
   "id": "df1be55e",
   "metadata": {},
   "outputs": [],
   "source": []
  }
 ],
 "metadata": {
  "kernelspec": {
   "display_name": "Python 3 (ipykernel)",
   "language": "python",
   "name": "python3"
  },
  "language_info": {
   "codemirror_mode": {
    "name": "ipython",
    "version": 3
   },
   "file_extension": ".py",
   "mimetype": "text/x-python",
   "name": "python",
   "nbconvert_exporter": "python",
   "pygments_lexer": "ipython3",
   "version": "3.8.16"
  },
  "toc": {
   "base_numbering": 1,
   "nav_menu": {},
   "number_sections": true,
   "sideBar": true,
   "skip_h1_title": false,
   "title_cell": "Table of Contents",
   "title_sidebar": "Contents",
   "toc_cell": false,
   "toc_position": {},
   "toc_section_display": true,
   "toc_window_display": true
  }
 },
 "nbformat": 4,
 "nbformat_minor": 5
}
